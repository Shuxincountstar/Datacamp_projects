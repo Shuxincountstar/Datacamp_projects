{
 "cells": [
  {
   "cell_type": "markdown",
   "metadata": {
    "dc": {
     "key": "4"
    },
    "deletable": false,
    "editable": false,
    "run_control": {
     "frozen": true
    },
    "tags": [
     "context"
    ]
   },
   "source": [
    "## 1. Survey of BMI and physical activity\n",
    "<p>We've all taken a survey at some point, but do you ever wonder what happens to your answers? Surveys are given to a carefully selected sample of people with the goal of generalizing the results to a much larger population.</p>\n",
    "<p>The <a href=\"https://www.cdc.gov/nchs/nhanes/index.htm\">National Health and Nutrition Examination Survey (NHANES)</a> data is a complex survey of tens of thousands of people designed to assess the health and nutritional status of adults and children in the United States. The NHANES data includes many measurements related to overall health, physical activity, diet, psychological health, socioeconomic factors and more.</p>\n",
    "<p>Depending on the sampling design, each person has a sampling weight that quantifies how many people in the larger population their data is meant to represent. In this notebook, we'll apply survey methods that use sampling weights to estimate and model relationships between measurements.</p>\n",
    "<p>We are going to focus on a common health indicator, Body Mass Index (<a href=\"https://en.wikipedia.org/wiki/Body_mass_index\">BMI</a> kg/m<sup>2</sup>), and how it is related to physical activity. We'll visualize the data and use survey-weighted regression to test for associations.</p>\n",
    "<p><img src=\"https://assets.datacamp.com/production/project_677/img/Activity-Flexibility-Wife-Women-Bending-Stretching-3098228.jpg\" alt=\"activity\"></p>"
   ]
  },
  {
   "cell_type": "code",
   "execution_count": 2,
   "metadata": {
    "dc": {
     "key": "4"
    },
    "tags": [
     "sample_code"
    ]
   },
   "outputs": [
    {
     "name": "stderr",
     "output_type": "stream",
     "text": [
      "\n",
      "Attaching package: ‘dplyr’\n",
      "\n",
      "\n",
      "The following objects are masked from ‘package:stats’:\n",
      "\n",
      "    filter, lag\n",
      "\n",
      "\n",
      "The following objects are masked from ‘package:base’:\n",
      "\n",
      "    intersect, setdiff, setequal, union\n",
      "\n",
      "\n"
     ]
    },
    {
     "name": "stdout",
     "output_type": "stream",
     "text": [
      "Rows: 20,293\n",
      "Columns: 78\n",
      "$ ID               \u001b[3m\u001b[90m<int>\u001b[39m\u001b[23m 51624, 51625, 51626, 51627, 51628, 51629, 51630, 5163…\n",
      "$ SurveyYr         \u001b[3m\u001b[90m<fct>\u001b[39m\u001b[23m 2009_10, 2009_10, 2009_10, 2009_10, 2009_10, 2009_10,…\n",
      "$ Gender           \u001b[3m\u001b[90m<fct>\u001b[39m\u001b[23m male, male, male, male, female, male, female, female,…\n",
      "$ Age              \u001b[3m\u001b[90m<int>\u001b[39m\u001b[23m 34, 4, 16, 10, 60, 26, 49, 1, 10, 80, 10, 80, 4, 35, …\n",
      "$ AgeMonths        \u001b[3m\u001b[90m<int>\u001b[39m\u001b[23m 409, 49, 202, 131, 722, 313, 596, 12, 124, NA, 121, N…\n",
      "$ Race1            \u001b[3m\u001b[90m<fct>\u001b[39m\u001b[23m White, Other, Black, Black, Black, Mexican, White, Wh…\n",
      "$ Race3            \u001b[3m\u001b[90m<fct>\u001b[39m\u001b[23m NA, NA, NA, NA, NA, NA, NA, NA, NA, NA, NA, NA, NA, N…\n",
      "$ Education        \u001b[3m\u001b[90m<fct>\u001b[39m\u001b[23m High School, NA, NA, NA, High School, 9 - 11th Grade,…\n",
      "$ MaritalStatus    \u001b[3m\u001b[90m<fct>\u001b[39m\u001b[23m Married, NA, NA, NA, Widowed, Married, LivePartner, N…\n",
      "$ HHIncome         \u001b[3m\u001b[90m<fct>\u001b[39m\u001b[23m 25000-34999, 20000-24999, 45000-54999, 20000-24999, 1…\n",
      "$ HHIncomeMid      \u001b[3m\u001b[90m<int>\u001b[39m\u001b[23m 30000, 22500, 50000, 22500, 12500, 30000, 40000, 4000…\n",
      "$ Poverty          \u001b[3m\u001b[90m<dbl>\u001b[39m\u001b[23m 1.36, 1.07, 2.27, 0.81, 0.69, 1.01, 1.91, 1.36, 2.68,…\n",
      "$ HomeRooms        \u001b[3m\u001b[90m<int>\u001b[39m\u001b[23m 6, 9, 5, 6, 6, 4, 5, 5, 7, 4, 5, 5, 7, NA, 6, 6, 5, 6…\n",
      "$ HomeOwn          \u001b[3m\u001b[90m<fct>\u001b[39m\u001b[23m Own, Own, Own, Rent, Rent, Rent, Rent, Rent, Own, Own…\n",
      "$ Work             \u001b[3m\u001b[90m<fct>\u001b[39m\u001b[23m NotWorking, NA, NotWorking, NA, NotWorking, Working, …\n",
      "$ Weight           \u001b[3m\u001b[90m<dbl>\u001b[39m\u001b[23m 87.4, 17.0, 72.3, 39.8, 116.8, 97.6, 86.7, 9.4, 26.0,…\n",
      "$ Length           \u001b[3m\u001b[90m<dbl>\u001b[39m\u001b[23m NA, NA, NA, NA, NA, NA, NA, 75.7, NA, NA, NA, NA, NA,…\n",
      "$ HeadCirc         \u001b[3m\u001b[90m<dbl>\u001b[39m\u001b[23m NA, NA, NA, NA, NA, NA, NA, NA, NA, NA, NA, NA, NA, N…\n",
      "$ Height           \u001b[3m\u001b[90m<dbl>\u001b[39m\u001b[23m 164.7, 105.4, 181.3, 147.8, 166.0, 173.0, 168.4, NA, …\n",
      "$ BMI              \u001b[3m\u001b[90m<dbl>\u001b[39m\u001b[23m 32.22, 15.30, 22.00, 18.22, 42.39, 32.61, 30.57, NA, …\n",
      "$ BMICatUnder20yrs \u001b[3m\u001b[90m<fct>\u001b[39m\u001b[23m NA, NA, NA, NA, NA, NA, NA, NA, NA, NA, NA, NA, NA, N…\n",
      "$ BMI_WHO          \u001b[3m\u001b[90m<fct>\u001b[39m\u001b[23m 30.0_plus, 12.0_18.5, 18.5_to_24.9, 12.0_18.5, 30.0_p…\n",
      "$ Pulse            \u001b[3m\u001b[90m<int>\u001b[39m\u001b[23m 70, NA, 68, 68, 72, 72, 86, NA, 70, 88, 84, 54, NA, N…\n",
      "$ BPSysAve         \u001b[3m\u001b[90m<int>\u001b[39m\u001b[23m 113, NA, 109, 93, 150, 104, 112, NA, 108, 139, 94, 12…\n",
      "$ BPDiaAve         \u001b[3m\u001b[90m<int>\u001b[39m\u001b[23m 85, NA, 59, 41, 68, 49, 75, NA, 53, 43, 45, 60, NA, N…\n",
      "$ BPSys1           \u001b[3m\u001b[90m<int>\u001b[39m\u001b[23m 114, NA, 112, 92, 154, 102, 118, NA, 106, 142, 94, 12…\n",
      "$ BPDia1           \u001b[3m\u001b[90m<int>\u001b[39m\u001b[23m 88, NA, 62, 36, 70, 50, 82, NA, 60, 62, 38, 62, NA, N…\n",
      "$ BPSys2           \u001b[3m\u001b[90m<int>\u001b[39m\u001b[23m 114, NA, 114, 94, 150, 104, 108, NA, 106, 140, 92, 12…\n",
      "$ BPDia2           \u001b[3m\u001b[90m<int>\u001b[39m\u001b[23m 88, NA, 60, 44, 68, 48, 74, NA, 50, 46, 40, 62, NA, N…\n",
      "$ BPSys3           \u001b[3m\u001b[90m<int>\u001b[39m\u001b[23m 112, NA, 104, 92, 150, 104, 116, NA, 110, 138, 96, 11…\n",
      "$ BPDia3           \u001b[3m\u001b[90m<int>\u001b[39m\u001b[23m 82, NA, 58, 38, 68, 50, 76, NA, 56, 40, 50, 58, NA, N…\n",
      "$ Testosterone     \u001b[3m\u001b[90m<dbl>\u001b[39m\u001b[23m NA, NA, NA, NA, NA, NA, NA, NA, NA, NA, NA, NA, NA, N…\n",
      "$ DirectChol       \u001b[3m\u001b[90m<dbl>\u001b[39m\u001b[23m 1.29, NA, 1.55, 1.89, 1.16, 1.16, 1.16, NA, 1.58, 1.9…\n",
      "$ TotChol          \u001b[3m\u001b[90m<dbl>\u001b[39m\u001b[23m 3.49, NA, 4.97, 4.16, 5.22, 4.14, 6.70, NA, 4.14, 4.7…\n",
      "$ UrineVol1        \u001b[3m\u001b[90m<int>\u001b[39m\u001b[23m 352, NA, 281, 139, 30, 202, 77, NA, 39, 128, 109, 38,…\n",
      "$ UrineFlow1       \u001b[3m\u001b[90m<dbl>\u001b[39m\u001b[23m NA, NA, 0.415, 1.078, 0.476, 0.563, 0.094, NA, 0.300,…\n",
      "$ UrineVol2        \u001b[3m\u001b[90m<int>\u001b[39m\u001b[23m NA, NA, NA, NA, 246, NA, NA, NA, NA, NA, NA, NA, NA, …\n",
      "$ UrineFlow2       \u001b[3m\u001b[90m<dbl>\u001b[39m\u001b[23m NA, NA, NA, NA, 2.51, NA, NA, NA, NA, NA, NA, NA, NA,…\n",
      "$ Diabetes         \u001b[3m\u001b[90m<fct>\u001b[39m\u001b[23m No, No, No, No, Yes, No, No, No, No, No, No, Yes, No,…\n",
      "$ DiabetesAge      \u001b[3m\u001b[90m<int>\u001b[39m\u001b[23m NA, NA, NA, NA, 56, NA, NA, NA, NA, NA, NA, 70, NA, N…\n",
      "$ HealthGen        \u001b[3m\u001b[90m<fct>\u001b[39m\u001b[23m Good, NA, Vgood, NA, Fair, Good, Good, NA, NA, Excell…\n",
      "$ DaysPhysHlthBad  \u001b[3m\u001b[90m<int>\u001b[39m\u001b[23m 0, NA, 2, NA, 20, 2, 0, NA, NA, 0, NA, 0, NA, NA, NA,…\n",
      "$ DaysMentHlthBad  \u001b[3m\u001b[90m<int>\u001b[39m\u001b[23m 15, NA, 0, NA, 25, 14, 10, NA, NA, 0, NA, 0, NA, NA, …\n",
      "$ LittleInterest   \u001b[3m\u001b[90m<fct>\u001b[39m\u001b[23m Most, NA, NA, NA, Most, None, Several, NA, NA, None, …\n",
      "$ Depressed        \u001b[3m\u001b[90m<fct>\u001b[39m\u001b[23m Several, NA, NA, NA, Most, Most, Several, NA, NA, Non…\n",
      "$ nPregnancies     \u001b[3m\u001b[90m<int>\u001b[39m\u001b[23m NA, NA, NA, NA, 1, NA, 2, NA, NA, NA, NA, NA, NA, NA,…\n",
      "$ nBabies          \u001b[3m\u001b[90m<int>\u001b[39m\u001b[23m NA, NA, NA, NA, 1, NA, 2, NA, NA, NA, NA, NA, NA, NA,…\n",
      "$ Age1stBaby       \u001b[3m\u001b[90m<int>\u001b[39m\u001b[23m NA, NA, NA, NA, NA, NA, 27, NA, NA, NA, NA, NA, NA, N…\n",
      "$ SleepHrsNight    \u001b[3m\u001b[90m<int>\u001b[39m\u001b[23m 4, NA, 8, NA, 4, 4, 8, NA, NA, 6, NA, 9, NA, 7, NA, N…\n",
      "$ SleepTrouble     \u001b[3m\u001b[90m<fct>\u001b[39m\u001b[23m Yes, NA, No, NA, No, No, Yes, NA, NA, No, NA, No, NA,…\n",
      "$ PhysActive       \u001b[3m\u001b[90m<fct>\u001b[39m\u001b[23m No, NA, Yes, NA, No, Yes, No, NA, NA, Yes, NA, No, NA…\n",
      "$ PhysActiveDays   \u001b[3m\u001b[90m<int>\u001b[39m\u001b[23m NA, NA, 5, NA, NA, 2, NA, NA, NA, 4, NA, NA, NA, NA, …\n",
      "$ TVHrsDay         \u001b[3m\u001b[90m<fct>\u001b[39m\u001b[23m NA, NA, NA, NA, NA, NA, NA, NA, NA, NA, NA, NA, NA, N…\n",
      "$ CompHrsDay       \u001b[3m\u001b[90m<fct>\u001b[39m\u001b[23m NA, NA, NA, NA, NA, NA, NA, NA, NA, NA, NA, NA, NA, N…\n",
      "$ TVHrsDayChild    \u001b[3m\u001b[90m<int>\u001b[39m\u001b[23m NA, 4, NA, 1, NA, NA, NA, NA, 1, NA, 3, NA, 2, NA, 5,…\n",
      "$ CompHrsDayChild  \u001b[3m\u001b[90m<int>\u001b[39m\u001b[23m NA, 1, NA, 1, NA, NA, NA, NA, 0, NA, 0, NA, 1, NA, 0,…\n",
      "$ Alcohol12PlusYr  \u001b[3m\u001b[90m<fct>\u001b[39m\u001b[23m Yes, NA, NA, NA, No, Yes, Yes, NA, NA, Yes, NA, No, N…\n",
      "$ AlcoholDay       \u001b[3m\u001b[90m<int>\u001b[39m\u001b[23m NA, NA, NA, NA, NA, 19, 2, NA, NA, 1, NA, NA, NA, NA,…\n",
      "$ AlcoholYear      \u001b[3m\u001b[90m<int>\u001b[39m\u001b[23m 0, NA, NA, NA, 0, 48, 20, NA, NA, 52, NA, 0, NA, NA, …\n",
      "$ SmokeNow         \u001b[3m\u001b[90m<fct>\u001b[39m\u001b[23m No, NA, NA, NA, Yes, No, Yes, NA, NA, No, NA, No, NA,…\n",
      "$ Smoke100         \u001b[3m\u001b[90m<fct>\u001b[39m\u001b[23m Yes, NA, NA, NA, Yes, Yes, Yes, NA, NA, Yes, NA, Yes,…\n",
      "$ SmokeAge         \u001b[3m\u001b[90m<int>\u001b[39m\u001b[23m 18, NA, NA, NA, 16, 15, 38, NA, NA, 16, NA, 21, NA, N…\n",
      "$ Marijuana        \u001b[3m\u001b[90m<fct>\u001b[39m\u001b[23m Yes, NA, NA, NA, NA, Yes, Yes, NA, NA, NA, NA, NA, NA…\n",
      "$ AgeFirstMarij    \u001b[3m\u001b[90m<int>\u001b[39m\u001b[23m 17, NA, NA, NA, NA, 10, 18, NA, NA, NA, NA, NA, NA, N…\n",
      "$ RegularMarij     \u001b[3m\u001b[90m<fct>\u001b[39m\u001b[23m No, NA, NA, NA, NA, Yes, No, NA, NA, NA, NA, NA, NA, …\n",
      "$ AgeRegMarij      \u001b[3m\u001b[90m<int>\u001b[39m\u001b[23m NA, NA, NA, NA, NA, 12, NA, NA, NA, NA, NA, NA, NA, N…\n",
      "$ HardDrugs        \u001b[3m\u001b[90m<fct>\u001b[39m\u001b[23m Yes, NA, NA, NA, No, Yes, Yes, NA, NA, NA, NA, NA, NA…\n",
      "$ SexEver          \u001b[3m\u001b[90m<fct>\u001b[39m\u001b[23m Yes, NA, NA, NA, Yes, Yes, Yes, NA, NA, NA, NA, NA, N…\n",
      "$ SexAge           \u001b[3m\u001b[90m<int>\u001b[39m\u001b[23m 16, NA, NA, NA, 15, 9, 12, NA, NA, NA, NA, NA, NA, NA…\n",
      "$ SexNumPartnLife  \u001b[3m\u001b[90m<int>\u001b[39m\u001b[23m 8, NA, NA, NA, 4, 10, 10, NA, NA, NA, NA, NA, NA, NA,…\n",
      "$ SexNumPartYear   \u001b[3m\u001b[90m<int>\u001b[39m\u001b[23m 1, NA, NA, NA, NA, 1, 1, NA, NA, NA, NA, NA, NA, NA, …\n",
      "$ SameSex          \u001b[3m\u001b[90m<fct>\u001b[39m\u001b[23m No, NA, NA, NA, No, No, Yes, NA, NA, NA, NA, NA, NA, …\n",
      "$ SexOrientation   \u001b[3m\u001b[90m<fct>\u001b[39m\u001b[23m Heterosexual, NA, NA, NA, NA, Heterosexual, Heterosex…\n",
      "$ WTINT2YR         \u001b[3m\u001b[90m<dbl>\u001b[39m\u001b[23m 80100.544, 53901.104, 13953.078, 11664.899, 20090.339…\n",
      "$ WTMEC2YR         \u001b[3m\u001b[90m<dbl>\u001b[39m\u001b[23m 81528.772, 56995.035, 14509.279, 12041.635, 21000.339…\n",
      "$ SDMVPSU          \u001b[3m\u001b[90m<int>\u001b[39m\u001b[23m 1, 2, 1, 2, 2, 1, 2, 2, 2, 1, 1, 1, 2, 2, 1, 1, 1, 1,…\n",
      "$ SDMVSTRA         \u001b[3m\u001b[90m<int>\u001b[39m\u001b[23m 83, 79, 84, 86, 75, 88, 85, 86, 88, 77, 86, 79, 84, 7…\n",
      "$ PregnantNow      \u001b[3m\u001b[90m<fct>\u001b[39m\u001b[23m NA, NA, NA, NA, NA, NA, NA, NA, NA, NA, NA, NA, NA, U…\n"
     ]
    }
   ],
   "source": [
    "# Load the NHANES and dplyr packages\n",
    "library(dplyr)\n",
    "library(NHANES)\n",
    "\n",
    "# Load the NHANESraw data\n",
    "data(\"NHANESraw\")\n",
    "\n",
    "# Take a glimpse at the contents\n",
    "glimpse(NHANESraw)"
   ]
  },
  {
   "cell_type": "code",
   "execution_count": 0,
   "metadata": {
    "dc": {
     "key": "4"
    },
    "hide": true,
    "tags": [
     "tests"
    ]
   },
   "outputs": [],
   "source": [
    "library(testthat) \n",
    "library(IRkernel.testthat)\n",
    "\n",
    "run_tests(\n",
    "    test_that(\"the dataset is loaded correctly\", {\n",
    "        expect_equal(\n",
    "            nrow(NHANESraw), \n",
    "            20293,\n",
    "            info = \"Did you load the 'NHANESraw' dataset?\"\n",
    "        )\n",
    "        expect_true(\n",
    "            \"data.frame\" %in% class(NHANESraw),\n",
    "            info = \"Did you load the 'NHANESraw' dataset? Read the data() documentation for help.\")\n",
    "    })\n",
    ")"
   ]
  },
  {
   "cell_type": "markdown",
   "metadata": {
    "dc": {
     "key": "12"
    },
    "deletable": false,
    "editable": false,
    "run_control": {
     "frozen": true
    },
    "tags": [
     "context"
    ]
   },
   "source": [
    "## 2. Visualize survey weight and strata variables\n",
    "<p>We see from <code>glimpse()</code> that the <code>NHANESraw</code> data has many health measurement variables. It also contains a sampling weight variable <code>WTMEC2YR</code>.</p>\n",
    "<p>Since <code>NHANESraw</code> data spans 4 years (2009&ndash;2012) and the sampling weights are based on 2 years of data, we first need to create a weight variable that scales the sample across the full 4 years. Currently the weights sum to 2 times the US population number, so we need to divide the 2-year weight in half so that in total, the sum of the weights is equal to the US population.</p>\n",
    "<p>The NHANES data has oversampled some geographic regions and specific minority groups. By examining the distribution of sampling weights for each race, we can see that Whites are undersampled and have higher weights while oversampled Black, Mexican, Hispanic people have lower weights since each sampled person in these minority groups represents fewer US people.</p>"
   ]
  },
  {
   "cell_type": "code",
   "execution_count": 3,
   "metadata": {
    "dc": {
     "key": "12"
    },
    "tags": [
     "sample_code"
    ]
   },
   "outputs": [
    {
     "data": {
      "text/html": [
       "<table class=\"dataframe\">\n",
       "<caption>A tibble: 1 × 1</caption>\n",
       "<thead>\n",
       "\t<tr><th scope=col>sum(WTMEC4YR)</th></tr>\n",
       "\t<tr><th scope=col>&lt;dbl&gt;</th></tr>\n",
       "</thead>\n",
       "<tbody>\n",
       "\t<tr><td>304267200</td></tr>\n",
       "</tbody>\n",
       "</table>\n"
      ],
      "text/latex": [
       "A tibble: 1 × 1\n",
       "\\begin{tabular}{l}\n",
       " sum(WTMEC4YR)\\\\\n",
       " <dbl>\\\\\n",
       "\\hline\n",
       "\t 304267200\\\\\n",
       "\\end{tabular}\n"
      ],
      "text/markdown": [
       "\n",
       "A tibble: 1 × 1\n",
       "\n",
       "| sum(WTMEC4YR) &lt;dbl&gt; |\n",
       "|---|\n",
       "| 304267200 |\n",
       "\n"
      ],
      "text/plain": [
       "  sum(WTMEC4YR)\n",
       "1 304267200    "
      ]
     },
     "metadata": {},
     "output_type": "display_data"
    },
    {
     "data": {
      "image/png": "[encoded data removed]",
      "text/plain": [
       "plot without title"
      ]
     },
     "metadata": {
      "image/png": {
       "height": 420,
       "width": 420
      }
     },
     "output_type": "display_data"
    }
   ],
   "source": [
    "# Load the ggplot2 package\n",
    "library(ggplot2)\n",
    "\n",
    "# Use mutate to create a 4-year weight variable and call it WTMEC4YR\n",
    "NHANESraw <- NHANESraw %>% mutate(WTMEC4YR = WTMEC2YR/2)\n",
    "\n",
    "# Calculate the sum of this weight variable\n",
    "NHANESraw %>% summarize(sum(WTMEC4YR))\n",
    "\n",
    "# Plot the sample weights using boxplots, with Race1 on the x-axis\n",
    "ggplot(NHANESraw, aes(x = Race1, y = WTMEC4YR)) + geom_boxplot()"
   ]
  },
  {
   "cell_type": "code",
   "execution_count": 0,
   "metadata": {
    "dc": {
     "key": "12"
    },
    "hide": true,
    "tags": [
     "tests"
    ]
   },
   "outputs": [],
   "source": [
    "stud_plot <- last_plot()\n",
    "soln_plot <- ggplot(NHANESraw, aes(x = Race1, y = WTMEC4YR)) + geom_boxplot()\n",
    "\n",
    "run_tests({\n",
    "    test_that(\"WTMEC4YR is correct\", {\n",
    "    expect_true(\"WTMEC4YR\" %in% colnames(NHANESraw), \n",
    "        info = \"Did you name the new column WTMEC4YR?\")\n",
    "    expect_equal(sum(NHANESraw$WTMEC4YR), 304267200,\n",
    "                info = \"The weights do not add up correctly. Is `WTMEC4YR = WTMEC2YR/2`?\")\n",
    "    })\n",
    "    test_that(\"plot is drawn correctly\", {\n",
    "        expect_s3_class(stud_plot, \"ggplot\")\n",
    "        expect_identical(\n",
    "            stud_plot$data,\n",
    "            soln_plot$data,\n",
    "            info = 'The plot data is incorrect. Did you use `NHANESraw` with the new column `WTMEC4YR`?'\n",
    "        )   \n",
    "        expect_identical(\n",
    "            deparse(stud_plot$mapping$x),\n",
    "            deparse(soln_plot$mapping$x),\n",
    "            info = 'The `x` aesthetic is incorrect. Did you map it to `Race1`?'\n",
    "        )      \n",
    "        expect_identical(\n",
    "            deparse(stud_plot$mapping$y),\n",
    "            deparse(soln_plot$mapping$y),\n",
    "            info = 'The `y` aesthetic is incorrect. Did you map it to `WTMEC4YR`?'\n",
    "        )  \n",
    "        expect_identical(\n",
    "            class(stud_plot$layers[[1]]$geom)[1],\n",
    "            class(soln_plot$layers[[1]]$geom)[1],\n",
    "            info = 'There is no boxplot layer. Did you call `geom_boxplot()`?'\n",
    "        )\n",
    "    })\n",
    "})"
   ]
  },
  {
   "cell_type": "markdown",
   "metadata": {
    "dc": {
     "key": "19"
    },
    "deletable": false,
    "editable": false,
    "run_control": {
     "frozen": true
    },
    "tags": [
     "context"
    ]
   },
   "source": [
    "## 3. Specify the survey design\n",
    "<p>We will now use the <code>survey</code> package to specify the complex survey design that we will use in later analyses. We need to specify the design so the sampling weights and design are used properly in the statistical models.</p>\n",
    "<p>The <code>NHANESraw</code> data contains a strata variable <code>SDMVSTRA</code>, and a cluster id variable (also known as a primary sampling unit, PSU), <code>SDMVPSU</code>, that accounts for design effects of clustering. These clusters (PSUs) are nested within strata.</p>"
   ]
  },
  {
   "cell_type": "code",
   "execution_count": 4,
   "metadata": {
    "dc": {
     "key": "19"
    },
    "tags": [
     "sample_code"
    ]
   },
   "outputs": [
    {
     "name": "stderr",
     "output_type": "stream",
     "text": [
      "Loading required package: grid\n",
      "\n",
      "Loading required package: Matrix\n",
      "\n",
      "Loading required package: survival\n",
      "\n",
      "\n",
      "Attaching package: ‘survey’\n",
      "\n",
      "\n",
      "The following object is masked from ‘package:graphics’:\n",
      "\n",
      "    dotchart\n",
      "\n",
      "\n"
     ]
    },
    {
     "data": {
      "text/plain": [
       "Stratified 1 - level Cluster Sampling design (with replacement)\n",
       "With (62) clusters.\n",
       "svydesign(data = NHANESraw, strata = ~SDMVSTRA, id = ~SDMVPSU, \n",
       "    nest = TRUE, weights = ~WTMEC4YR)\n",
       "Probabilities:\n",
       "     Min.   1st Qu.    Median      Mean   3rd Qu.      Max. \n",
       "8.986e-06 5.664e-05 1.054e-04       Inf 1.721e-04       Inf \n",
       "Stratum Sizes: \n",
       "            75  76  77  78  79  80  81  82  83  84  85  86  87  88  89  90  91\n",
       "obs        803 785 823 829 696 751 696 724 713 683 592 946 598 647 251 862 998\n",
       "design.PSU   2   2   2   2   2   2   2   2   2   2   2   3   2   2   2   3   3\n",
       "actual.PSU   2   2   2   2   2   2   2   2   2   2   2   3   2   2   2   3   3\n",
       "            92  93  94  95  96  97  98  99 100 101 102 103\n",
       "obs        875 602 688 722 676 608 708 682 700 715 624 296\n",
       "design.PSU   3   2   2   2   2   2   2   2   2   2   2   2\n",
       "actual.PSU   3   2   2   2   2   2   2   2   2   2   2   2\n",
       "Data variables:\n",
       " [1] \"ID\"               \"SurveyYr\"         \"Gender\"           \"Age\"             \n",
       " [5] \"AgeMonths\"        \"Race1\"            \"Race3\"            \"Education\"       \n",
       " [9] \"MaritalStatus\"    \"HHIncome\"         \"HHIncomeMid\"      \"Poverty\"         \n",
       "[13] \"HomeRooms\"        \"HomeOwn\"          \"Work\"             \"Weight\"          \n",
       "[17] \"Length\"           \"HeadCirc\"         \"Height\"           \"BMI\"             \n",
       "[21] \"BMICatUnder20yrs\" \"BMI_WHO\"          \"Pulse\"            \"BPSysAve\"        \n",
       "[25] \"BPDiaAve\"         \"BPSys1\"           \"BPDia1\"           \"BPSys2\"          \n",
       "[29] \"BPDia2\"           \"BPSys3\"           \"BPDia3\"           \"Testosterone\"    \n",
       "[33] \"DirectChol\"       \"TotChol\"          \"UrineVol1\"        \"UrineFlow1\"      \n",
       "[37] \"UrineVol2\"        \"UrineFlow2\"       \"Diabetes\"         \"DiabetesAge\"     \n",
       "[41] \"HealthGen\"        \"DaysPhysHlthBad\"  \"DaysMentHlthBad\"  \"LittleInterest\"  \n",
       "[45] \"Depressed\"        \"nPregnancies\"     \"nBabies\"          \"Age1stBaby\"      \n",
       "[49] \"SleepHrsNight\"    \"SleepTrouble\"     \"PhysActive\"       \"PhysActiveDays\"  \n",
       "[53] \"TVHrsDay\"         \"CompHrsDay\"       \"TVHrsDayChild\"    \"CompHrsDayChild\" \n",
       "[57] \"Alcohol12PlusYr\"  \"AlcoholDay\"       \"AlcoholYear\"      \"SmokeNow\"        \n",
       "[61] \"Smoke100\"         \"SmokeAge\"         \"Marijuana\"        \"AgeFirstMarij\"   \n",
       "[65] \"RegularMarij\"     \"AgeRegMarij\"      \"HardDrugs\"        \"SexEver\"         \n",
       "[69] \"SexAge\"           \"SexNumPartnLife\"  \"SexNumPartYear\"   \"SameSex\"         \n",
       "[73] \"SexOrientation\"   \"WTINT2YR\"         \"WTMEC2YR\"         \"SDMVPSU\"         \n",
       "[77] \"SDMVSTRA\"         \"PregnantNow\"      \"WTMEC4YR\"        "
      ]
     },
     "metadata": {},
     "output_type": "display_data"
    }
   ],
   "source": [
    "# Load the survey package\n",
    "library(survey)\n",
    "\n",
    "# Specify the survey design\n",
    "nhanes_design <- svydesign(\n",
    "    data = NHANESraw,\n",
    "    strata = ~ SDMVSTRA,\n",
    "    id = ~ SDMVPSU,\n",
    "    nest = TRUE,\n",
    "    weights = ~ WTMEC4YR)\n",
    "\n",
    "# Print a summary of this design\n",
    "summary(nhanes_design)"
   ]
  },
  {
   "cell_type": "code",
   "execution_count": 0,
   "metadata": {
    "dc": {
     "key": "19"
    },
    "hide": true,
    "tags": [
     "tests"
    ]
   },
   "outputs": [],
   "source": [
    "soln_nhanes_design <- svydesign(data = NHANESraw, \n",
    "                           strata = ~SDMVSTRA, \n",
    "                           id = ~SDMVPSU, \n",
    "                           nest = TRUE, # If nest = FALSE, student will get an error telling them to set nest = TRUE\n",
    "                           weights = ~WTMEC4YR)\n",
    "\n",
    "run_tests({\n",
    "    test_that(\"the study design is correct\", {\n",
    "        expect_s3_class(nhanes_design, \"survey.design2\")\n",
    "        expect_equal(\n",
    "            names(nhanes_design$strata),\n",
    "            names(soln_nhanes_design$strata),\n",
    "            info = \"The strata variable is not correct. Did you specify `strata = ~SDMVSTRA`?\"\n",
    "        )\n",
    "        expect_equal(\n",
    "            names(nhanes_design$cluster),\n",
    "            names(soln_nhanes_design$cluster),\n",
    "            info = \"The id variable is not correct. Did you specify `id = ~SDMVPSU`?\"\n",
    "        )\n",
    "        expect_equal(\n",
    "            names(nhanes_design$allprob),\n",
    "            names(soln_nhanes_design$allprob),\n",
    "            info = \"The weight variable is not correct. Did you specify `weights = ~WTMEC4YR`?\"\n",
    "        )\n",
    "        })\n",
    "})"
   ]
  },
  {
   "cell_type": "markdown",
   "metadata": {
    "dc": {
     "key": "26"
    },
    "deletable": false,
    "editable": false,
    "run_control": {
     "frozen": true
    },
    "tags": [
     "context"
    ]
   },
   "source": [
    "## 4. Subset the data\n",
    "<p>Analysis of survey data requires careful consideration of the sampling design and weights at every step. Something as simple as filtering the data becomes complicated when weights are involved. </p>\n",
    "<p>When we wish to examine a subset of the data (i.e. the subpopulation of adult Hispanics with diabetes, or pregnant women), we must explicitly specify this in the design. We cannot simply remove that subset of the data through filtering the raw data because the survey weights will no longer be correct and will not add up to the full US population.</p>\n",
    "<p>BMI categories are different for children and young adults younger than 20 so we will subset the data to only analyze adults of at least 20 years of age.</p>"
   ]
  },
  {
   "cell_type": "code",
   "execution_count": 5,
   "metadata": {
    "dc": {
     "key": "26"
    },
    "tags": [
     "sample_code"
    ]
   },
   "outputs": [
    {
     "data": {
      "text/plain": [
       "Stratified 1 - level Cluster Sampling design (with replacement)\n",
       "With (62) clusters.\n",
       "subset(nhanes_design, Age >= 20)\n",
       "Probabilities:\n",
       "     Min.   1st Qu.    Median      Mean   3rd Qu.      Max. \n",
       "8.986e-06 4.303e-05 8.107e-05       Inf 1.240e-04       Inf \n",
       "Stratum Sizes: \n",
       "            75  76  77  78  79  80  81  82  83  84  85  86  87  88  89  90  91\n",
       "obs        471 490 526 500 410 464 447 400 411 395 357 512 327 355 153 509 560\n",
       "design.PSU   2   2   2   2   2   2   2   2   2   2   2   3   2   2   2   3   3\n",
       "actual.PSU   2   2   2   2   2   2   2   2   2   2   2   3   2   2   2   3   3\n",
       "            92  93  94  95  96  97  98  99 100 101 102 103\n",
       "obs        483 376 368 454 362 315 414 409 377 460 308 165\n",
       "design.PSU   3   2   2   2   2   2   2   2   2   2   2   2\n",
       "actual.PSU   3   2   2   2   2   2   2   2   2   2   2   2\n",
       "Data variables:\n",
       " [1] \"ID\"               \"SurveyYr\"         \"Gender\"           \"Age\"             \n",
       " [5] \"AgeMonths\"        \"Race1\"            \"Race3\"            \"Education\"       \n",
       " [9] \"MaritalStatus\"    \"HHIncome\"         \"HHIncomeMid\"      \"Poverty\"         \n",
       "[13] \"HomeRooms\"        \"HomeOwn\"          \"Work\"             \"Weight\"          \n",
       "[17] \"Length\"           \"HeadCirc\"         \"Height\"           \"BMI\"             \n",
       "[21] \"BMICatUnder20yrs\" \"BMI_WHO\"          \"Pulse\"            \"BPSysAve\"        \n",
       "[25] \"BPDiaAve\"         \"BPSys1\"           \"BPDia1\"           \"BPSys2\"          \n",
       "[29] \"BPDia2\"           \"BPSys3\"           \"BPDia3\"           \"Testosterone\"    \n",
       "[33] \"DirectChol\"       \"TotChol\"          \"UrineVol1\"        \"UrineFlow1\"      \n",
       "[37] \"UrineVol2\"        \"UrineFlow2\"       \"Diabetes\"         \"DiabetesAge\"     \n",
       "[41] \"HealthGen\"        \"DaysPhysHlthBad\"  \"DaysMentHlthBad\"  \"LittleInterest\"  \n",
       "[45] \"Depressed\"        \"nPregnancies\"     \"nBabies\"          \"Age1stBaby\"      \n",
       "[49] \"SleepHrsNight\"    \"SleepTrouble\"     \"PhysActive\"       \"PhysActiveDays\"  \n",
       "[53] \"TVHrsDay\"         \"CompHrsDay\"       \"TVHrsDayChild\"    \"CompHrsDayChild\" \n",
       "[57] \"Alcohol12PlusYr\"  \"AlcoholDay\"       \"AlcoholYear\"      \"SmokeNow\"        \n",
       "[61] \"Smoke100\"         \"SmokeAge\"         \"Marijuana\"        \"AgeFirstMarij\"   \n",
       "[65] \"RegularMarij\"     \"AgeRegMarij\"      \"HardDrugs\"        \"SexEver\"         \n",
       "[69] \"SexAge\"           \"SexNumPartnLife\"  \"SexNumPartYear\"   \"SameSex\"         \n",
       "[73] \"SexOrientation\"   \"WTINT2YR\"         \"WTMEC2YR\"         \"SDMVPSU\"         \n",
       "[77] \"SDMVSTRA\"         \"PregnantNow\"      \"WTMEC4YR\"        "
      ]
     },
     "metadata": {},
     "output_type": "display_data"
    },
    {
     "data": {
      "text/html": [
       "20293"
      ],
      "text/latex": [
       "20293"
      ],
      "text/markdown": [
       "20293"
      ],
      "text/plain": [
       "[1] 20293"
      ]
     },
     "metadata": {},
     "output_type": "display_data"
    },
    {
     "data": {
      "text/html": [
       "11778"
      ],
      "text/latex": [
       "11778"
      ],
      "text/markdown": [
       "11778"
      ],
      "text/plain": [
       "[1] 11778"
      ]
     },
     "metadata": {},
     "output_type": "display_data"
    }
   ],
   "source": [
    "# Select adults of Age >= 20 with subset\n",
    "nhanes_adult <- subset(nhanes_design, Age >= 20)\n",
    "\n",
    "# Print a summary of this subset\n",
    "summary(nhanes_adult)\n",
    "\n",
    "# Compare the number of observations in the full data to the adult data\n",
    "nrow(nhanes_design)\n",
    "nrow(nhanes_adult)"
   ]
  },
  {
   "cell_type": "code",
   "execution_count": 0,
   "metadata": {
    "dc": {
     "key": "26"
    },
    "hide": true,
    "tags": [
     "tests"
    ]
   },
   "outputs": [],
   "source": [
    "soln_nhanes_adult <- subset(soln_nhanes_design, Age >= 20)\n",
    "\n",
    "run_tests({\n",
    "    test_that(\"the subset design is correct\", {\n",
    "        expect_s3_class(nhanes_adult, \"survey.design2\")\n",
    "        expect_equal(\n",
    "            nrow(nhanes_adult),\n",
    "            nrow(soln_nhanes_adult),\n",
    "            info = \"The number of observations in `nhanes_adult` is not correct. Did you specify `Age >= 20`?\"\n",
    "        )\n",
    "        })\n",
    "})"
   ]
  },
  {
   "cell_type": "markdown",
   "metadata": {
    "dc": {
     "key": "33"
    },
    "deletable": false,
    "editable": false,
    "run_control": {
     "frozen": true
    },
    "tags": [
     "context"
    ]
   },
   "source": [
    "## 5. Visualizing BMI\n",
    "<p>We let <code>svydesign()</code> do its magic, but how does this help us learn about the full US population? With survey methods, we can use the sampling weights to estimate the true distributions of measurements within the entire population. This works for many statistics such as means, proportions, and standard deviations.</p>\n",
    "<p>We'll use survey methods to estimate average BMI in the US adult population and also to draw a weighted histogram of the distribution.</p>"
   ]
  },
  {
   "cell_type": "code",
   "execution_count": 6,
   "metadata": {
    "dc": {
     "key": "33"
    },
    "tags": [
     "sample_code"
    ]
   },
   "outputs": [
    {
     "data": {
      "text/html": [
       "<table class=\"dataframe\">\n",
       "<caption>A tibble: 1 × 1</caption>\n",
       "<thead>\n",
       "\t<tr><th scope=col>mean(BMI, na.rm = TRUE)</th></tr>\n",
       "\t<tr><th scope=col>&lt;dbl&gt;</th></tr>\n",
       "</thead>\n",
       "<tbody>\n",
       "\t<tr><td>28.98217</td></tr>\n",
       "</tbody>\n",
       "</table>\n"
      ],
      "text/latex": [
       "A tibble: 1 × 1\n",
       "\\begin{tabular}{l}\n",
       " mean(BMI, na.rm = TRUE)\\\\\n",
       " <dbl>\\\\\n",
       "\\hline\n",
       "\t 28.98217\\\\\n",
       "\\end{tabular}\n"
      ],
      "text/markdown": [
       "\n",
       "A tibble: 1 × 1\n",
       "\n",
       "| mean(BMI, na.rm = TRUE) &lt;dbl&gt; |\n",
       "|---|\n",
       "| 28.98217 |\n",
       "\n"
      ],
      "text/plain": [
       "  mean(BMI, na.rm = TRUE)\n",
       "1 28.98217               "
      ]
     },
     "metadata": {},
     "output_type": "display_data"
    },
    {
     "data": {
      "text/plain": [
       "      mean     SE\n",
       "BMI 28.734 0.1235"
      ]
     },
     "metadata": {},
     "output_type": "display_data"
    },
    {
     "name": "stderr",
     "output_type": "stream",
     "text": [
      "`stat_bin()` using `bins = 30`. Pick better value with `binwidth`.\n",
      "\n",
      "Warning message:\n",
      "“Removed 547 rows containing non-finite values (stat_bin).”\n"
     ]
    },
    {
     "data": {
      "image/png": "[encoded data removed]",
      "text/plain": [
       "plot without title"
      ]
     },
     "metadata": {
      "image/png": {
       "height": 420,
       "width": 420
      }
     },
     "output_type": "display_data"
    }
   ],
   "source": [
    "# Calculate the mean BMI in NHANESraw\n",
    "bmi_mean_raw <- NHANESraw %>% \n",
    "    filter(Age >= 20) %>%\n",
    "    summarize(mean(BMI, na.rm = TRUE))\n",
    "bmi_mean_raw\n",
    "\n",
    "# Calculate the survey-weighted mean BMI of US adults\n",
    "bmi_mean <- svymean(~BMI, design = nhanes_adult, na.rm = TRUE)\n",
    "bmi_mean\n",
    "\n",
    "# Draw a weighted histogram of BMI in the US population\n",
    "NHANESraw %>% \n",
    "  filter(Age >= 20) %>%\n",
    "    ggplot(mapping = aes(x = BMI, weight = WTMEC4YR)) + \n",
    "    geom_histogram()+\n",
    "    geom_vline(xintercept = coef(bmi_mean), color=\"red\")"
   ]
  },
  {
   "cell_type": "code",
   "execution_count": 0,
   "metadata": {
    "dc": {
     "key": "33"
    },
    "hide": true,
    "tags": [
     "tests"
    ]
   },
   "outputs": [],
   "source": [
    "stud_plot <- last_plot()\n",
    "\n",
    "soln_bmi_mean_raw <- NHANESraw %>% \n",
    "    filter(Age >= 20) %>%\n",
    "    summarize(mean(BMI, na.rm=TRUE))\n",
    "\n",
    "soln_bmi_mean <- svymean(~BMI, design = soln_nhanes_adult, na.rm = TRUE)\n",
    "\n",
    "soln_plot <- NHANESraw %>% \n",
    "  filter(Age >= 20) %>%\n",
    "    ggplot(mapping = aes(x = BMI, weight = WTMEC4YR)) + \n",
    "    geom_histogram()+\n",
    "    geom_vline(xintercept = coef(bmi_mean), color=\"red\")\n",
    "\n",
    "run_tests({\n",
    "    test_that(\"the raw mean is correct\", {\n",
    "        expect_true(\n",
    "            !is.na(bmi_mean_raw[[1]]),\n",
    "            info = \"`bmi_mean_raw` contains `NA`. Did you specify `na.rm=TRUE` in `summarize()`?\"\n",
    "        )\n",
    "        expect_equal(\n",
    "            soln_bmi_mean_raw[[1]],\n",
    "            bmi_mean_raw[[1]],\n",
    "            info = \"`bmi_mean_raw` is not correct. Did you use `filter(Age >= 20)` and take the `mean` of `BMI`?\"\n",
    "        )\n",
    "        expect_false(\n",
    "            names(bmi_mean_raw)==\"mean(BMI, na.rm = T)\",\n",
    "            info = \"Careful! You specified `na.rm = T` but it is preferred to use `na.rm = TRUE`.\"\n",
    "        )\n",
    "    })\n",
    "    test_that(\"the survey mean is correct\", {\n",
    "        expect_equal(\n",
    "            as.data.frame(soln_bmi_mean),\n",
    "            as.data.frame(bmi_mean),\n",
    "            info = \"`bmi_mean` is not correct. Did you use `svymean()` correctly using `nhanes_adult` design?\"\n",
    "        ) \n",
    "    })\n",
    "    test_that(\"plot is drawn correctly\", {\n",
    "        expect_s3_class(stud_plot, \"ggplot\")\n",
    "        expect_identical(\n",
    "            stud_plot$data,\n",
    "            soln_plot$data,\n",
    "            info = 'The plot data is incorrect. Did you use `NHANESraw` after filtering `Age >= 20`?'\n",
    "        )   \n",
    "        expect_identical(\n",
    "            deparse(stud_plot$mapping$x),\n",
    "            deparse(soln_plot$mapping$x),\n",
    "            info = 'The `x` aesthetic is incorrect. Did you map it to `BMI`?'\n",
    "        )      \n",
    "        expect_identical(\n",
    "            deparse(stud_plot$mapping$weight),\n",
    "            deparse(soln_plot$mapping$weight),\n",
    "            info = 'The `weight` aesthetic is incorrect. Did you map it to `WTMEC4YR`?'\n",
    "        )  \n",
    "        expect_identical(\n",
    "            class(stud_plot$layers[[1]]$geom)[1],\n",
    "            class(soln_plot$layers[[1]]$geom)[1],\n",
    "            info = 'There is no histogram layer. Did you call `geom_histogram()`?'\n",
    "        )\n",
    "    })\n",
    "})"
   ]
  },
  {
   "cell_type": "markdown",
   "metadata": {
    "dc": {
     "key": "40"
    },
    "deletable": false,
    "editable": false,
    "run_control": {
     "frozen": true
    },
    "tags": [
     "context"
    ]
   },
   "source": [
    "## 6. Is BMI lower in physically active people?\n",
    "<p>The distribution of BMI looks to be about what we might expect with most people under 40 kg/m<sup>2</sup> and a slight positive skewness because a few people have much higher BMI. Now to the question of interest: does the distribution of BMI differ between people who are physically active versus those who are not physically active? We can visually compare BMI with a boxplot as well as formally test for a difference in mean BMI. </p>"
   ]
  },
  {
   "cell_type": "code",
   "execution_count": 7,
   "metadata": {
    "dc": {
     "key": "40"
    },
    "tags": [
     "sample_code"
    ]
   },
   "outputs": [
    {
     "name": "stderr",
     "output_type": "stream",
     "text": [
      "Warning message:\n",
      "“Removed 547 rows containing non-finite values (stat_boxplot).”\n"
     ]
    },
    {
     "data": {
      "text/html": [
       "<table class=\"dataframe\">\n",
       "<caption>A tibble: 1 × 8</caption>\n",
       "<thead>\n",
       "\t<tr><th scope=col>estimate</th><th scope=col>statistic</th><th scope=col>p.value</th><th scope=col>parameter</th><th scope=col>conf.low</th><th scope=col>conf.high</th><th scope=col>method</th><th scope=col>alternative</th></tr>\n",
       "\t<tr><th scope=col>&lt;dbl&gt;</th><th scope=col>&lt;dbl&gt;</th><th scope=col>&lt;dbl&gt;</th><th scope=col>&lt;dbl&gt;</th><th scope=col>&lt;dbl&gt;</th><th scope=col>&lt;dbl&gt;</th><th scope=col>&lt;chr&gt;</th><th scope=col>&lt;chr&gt;</th></tr>\n",
       "</thead>\n",
       "<tbody>\n",
       "\t<tr><td>-1.846458</td><td>-9.716503</td><td>4.56031e-11</td><td>32</td><td>-2.218916</td><td>-1.473999</td><td>Design-based t-test</td><td>two.sided</td></tr>\n",
       "</tbody>\n",
       "</table>\n"
      ],
      "text/latex": [
       "A tibble: 1 × 8\n",
       "\\begin{tabular}{llllllll}\n",
       " estimate & statistic & p.value & parameter & conf.low & conf.high & method & alternative\\\\\n",
       " <dbl> & <dbl> & <dbl> & <dbl> & <dbl> & <dbl> & <chr> & <chr>\\\\\n",
       "\\hline\n",
       "\t -1.846458 & -9.716503 & 4.56031e-11 & 32 & -2.218916 & -1.473999 & Design-based t-test & two.sided\\\\\n",
       "\\end{tabular}\n"
      ],
      "text/markdown": [
       "\n",
       "A tibble: 1 × 8\n",
       "\n",
       "| estimate &lt;dbl&gt; | statistic &lt;dbl&gt; | p.value &lt;dbl&gt; | parameter &lt;dbl&gt; | conf.low &lt;dbl&gt; | conf.high &lt;dbl&gt; | method &lt;chr&gt; | alternative &lt;chr&gt; |\n",
       "|---|---|---|---|---|---|---|---|\n",
       "| -1.846458 | -9.716503 | 4.56031e-11 | 32 | -2.218916 | -1.473999 | Design-based t-test | two.sided |\n",
       "\n"
      ],
      "text/plain": [
       "  estimate  statistic p.value     parameter conf.low  conf.high\n",
       "1 -1.846458 -9.716503 4.56031e-11 32        -2.218916 -1.473999\n",
       "  method              alternative\n",
       "1 Design-based t-test two.sided  "
      ]
     },
     "metadata": {},
     "output_type": "display_data"
    },
    {
     "data": {
      "image/png": "[encoded data removed]",
      "text/plain": [
       "plot without title"
      ]
     },
     "metadata": {
      "image/png": {
       "height": 420,
       "width": 420
      }
     },
     "output_type": "display_data"
    }
   ],
   "source": [
    "# Load the broom library\n",
    "library(broom)\n",
    "\n",
    "# Make a boxplot of BMI stratified by physically active status\n",
    "NHANESraw %>% \n",
    "  filter(Age >= 20) %>%\n",
    "  ggplot(mapping = aes(x = PhysActive, y = BMI, weight = WTMEC4YR)) + \n",
    "geom_boxplot()\n",
    "\n",
    "# Conduct a t-test comparing mean BMI between physically active status\n",
    "survey_ttest <- svyttest(BMI ~ PhysActive, design = nhanes_adult)\n",
    "\n",
    "# Use broom to show the tidy results\n",
    "tidy(survey_ttest)"
   ]
  },
  {
   "cell_type": "code",
   "execution_count": 0,
   "metadata": {
    "dc": {
     "key": "40"
    },
    "hide": true,
    "tags": [
     "tests"
    ]
   },
   "outputs": [],
   "source": [
    "stud_plot <- last_plot()\n",
    "soln_plot <- NHANESraw %>% \n",
    "  filter(Age>=20) %>%\n",
    "    ggplot(mapping = aes(x = PhysActive, y = BMI, weight = WTMEC4YR)) + \n",
    "    geom_boxplot()\n",
    "\n",
    "soln_ttest <- tidy(svyttest(BMI~PhysActive, design = soln_nhanes_adult))\n",
    "stud_ttest <- tidy(survey_ttest)\n",
    "\n",
    "run_tests({\n",
    "    test_that(\"plot is drawn correctly\", {\n",
    "        expect_s3_class(stud_plot, \"ggplot\")\n",
    "        expect_identical(\n",
    "            stud_plot$data,\n",
    "            soln_plot$data,\n",
    "            info = 'The plot data is incorrect. Did you use `NHANESraw` with `filter(Age>=20)`?'\n",
    "        )   \n",
    "        expect_identical(\n",
    "            deparse(stud_plot$mapping$x),\n",
    "            deparse(soln_plot$mapping$x),\n",
    "            info = 'The `x` aesthetic is incorrect. Did you map it to `PhysActive`?'\n",
    "        )      \n",
    "        expect_identical(\n",
    "            deparse(stud_plot$mapping$y),\n",
    "            deparse(soln_plot$mapping$y),\n",
    "            info = 'The `y` aesthetic is incorrect. Did you map it to `BMI`?'\n",
    "        )  \n",
    "        expect_identical(\n",
    "            deparse(stud_plot$mapping$weight),\n",
    "            deparse(soln_plot$mapping$weight),\n",
    "            info = 'The `weight` aesthetic is incorrect. Did you map it to `WTMEC4YR`?'\n",
    "        )  \n",
    "        expect_identical(\n",
    "            class(stud_plot$layers[[1]]$geom)[1],\n",
    "            class(soln_plot$layers[[1]]$geom)[1],\n",
    "            info = 'There is no boxplot layer. Did you call `geom_boxplot()`?'\n",
    "        )\n",
    "    })\n",
    "    test_that(\"t test is correct\", {\n",
    "        expect_equal(\n",
    "            as.data.frame(soln_ttest),\n",
    "            as.data.frame(stud_ttest),\n",
    "            info = 'The t-test result is incorrect. Did you use the arguments `BMI~PhysActive` and `design=nhanes_adult`?'\n",
    "        )\n",
    "    })\n",
    "})"
   ]
  },
  {
   "cell_type": "markdown",
   "metadata": {
    "dc": {
     "key": "47"
    },
    "deletable": false,
    "editable": false,
    "run_control": {
     "frozen": true
    },
    "tags": [
     "context"
    ]
   },
   "source": [
    "## 7. Could there be confounding by smoking? (part 1)\n",
    "<p>The relationship between physical activity and BMI is likely not so simple as \"if you exercise you will lower your BMI.\" In fact, many other lifestyle or demographic variables could be confounding this relationship. One such variable could be smoking status. If someone smokes, is he or she more or less likely to be physically active? Are smokers more likely to have higher or lower BMI? We can examine these relationships in the survey data. Note that many people chose not to answer the smoking question, so we reduce our sample size when looking at this data.</p>\n",
    "<p>First, let's look at the relationship between smoking and physical activity.</p>"
   ]
  },
  {
   "cell_type": "code",
   "execution_count": 8,
   "metadata": {
    "dc": {
     "key": "47"
    },
    "tags": [
     "sample_code"
    ]
   },
   "outputs": [
    {
     "data": {
      "text/html": [
       "<table class=\"dataframe\">\n",
       "<caption>A svyby: 2 × 5</caption>\n",
       "<thead>\n",
       "\t<tr><th></th><th scope=col>SmokeNow</th><th scope=col>PhysActiveNo</th><th scope=col>PhysActiveYes</th><th scope=col>se.PhysActiveNo</th><th scope=col>se.PhysActiveYes</th></tr>\n",
       "\t<tr><th></th><th scope=col>&lt;fct&gt;</th><th scope=col>&lt;dbl&gt;</th><th scope=col>&lt;dbl&gt;</th><th scope=col>&lt;dbl&gt;</th><th scope=col>&lt;dbl&gt;</th></tr>\n",
       "</thead>\n",
       "<tbody>\n",
       "\t<tr><th scope=row>1</th><td>No </td><td>0.4566990</td><td>0.5433010</td><td>0.01738054</td><td>0.01738054</td></tr>\n",
       "\t<tr><th scope=row>2</th><td>Yes</td><td>0.5885421</td><td>0.4114579</td><td>0.01163246</td><td>0.01163246</td></tr>\n",
       "</tbody>\n",
       "</table>\n"
      ],
      "text/latex": [
       "A svyby: 2 × 5\n",
       "\\begin{tabular}{r|lllll}\n",
       "  & SmokeNow & PhysActiveNo & PhysActiveYes & se.PhysActiveNo & se.PhysActiveYes\\\\\n",
       "  & <fct> & <dbl> & <dbl> & <dbl> & <dbl>\\\\\n",
       "\\hline\n",
       "\t1 & No  & 0.4566990 & 0.5433010 & 0.01738054 & 0.01738054\\\\\n",
       "\t2 & Yes & 0.5885421 & 0.4114579 & 0.01163246 & 0.01163246\\\\\n",
       "\\end{tabular}\n"
      ],
      "text/markdown": [
       "\n",
       "A svyby: 2 × 5\n",
       "\n",
       "| <!--/--> | SmokeNow &lt;fct&gt; | PhysActiveNo &lt;dbl&gt; | PhysActiveYes &lt;dbl&gt; | se.PhysActiveNo &lt;dbl&gt; | se.PhysActiveYes &lt;dbl&gt; |\n",
       "|---|---|---|---|---|---|\n",
       "| 1 | No  | 0.4566990 | 0.5433010 | 0.01738054 | 0.01738054 |\n",
       "| 2 | Yes | 0.5885421 | 0.4114579 | 0.01163246 | 0.01163246 |\n",
       "\n"
      ],
      "text/plain": [
       "  SmokeNow PhysActiveNo PhysActiveYes se.PhysActiveNo se.PhysActiveYes\n",
       "1 No       0.4566990    0.5433010     0.01738054      0.01738054      \n",
       "2 Yes      0.5885421    0.4114579     0.01163246      0.01163246      "
      ]
     },
     "metadata": {},
     "output_type": "display_data"
    },
    {
     "data": {
      "image/png": "[encoded data removed]",
      "text/plain": [
       "plot without title"
      ]
     },
     "metadata": {
      "image/png": {
       "height": 420,
       "width": 420
      }
     },
     "output_type": "display_data"
    }
   ],
   "source": [
    "# Estimate the proportion who are physically active by current smoking status\n",
    "phys_by_smoke <- svyby(~ PhysActive, by = ~ SmokeNow, \n",
    "                       FUN = svymean, \n",
    "                       design = nhanes_adult, \n",
    "                       keep.names = FALSE)\n",
    "\n",
    "# Print the table\n",
    "phys_by_smoke\n",
    "\n",
    "# Plot the proportions\n",
    "ggplot(data = phys_by_smoke, \n",
    "       aes(x = SmokeNow, y = PhysActiveYes, fill = SmokeNow)) +\n",
    "    geom_col() +\n",
    "    ylab(\"Proportion Physically Active\")"
   ]
  },
  {
   "cell_type": "code",
   "execution_count": 0,
   "metadata": {
    "dc": {
     "key": "47"
    },
    "hide": true,
    "tags": [
     "tests"
    ]
   },
   "outputs": [],
   "source": [
    "stud_plot <- last_plot()\n",
    "soln_plot <- ggplot(data = phys_by_smoke, \n",
    "       aes(y = PhysActiveYes, x = SmokeNow, fill = SmokeNow)) +\n",
    "    geom_col() +\n",
    "    ylab(\"Proportion Physically Active\")\n",
    "\n",
    "soln_phys_by_smoke <- svyby(~PhysActive, by = ~SmokeNow, \n",
    "                       FUN = svymean, \n",
    "                       design = soln_nhanes_adult, \n",
    "                       keep.names = FALSE)\n",
    "\n",
    "run_tests({\n",
    "    test_that(\"plot is drawn correctly\", {\n",
    "        expect_s3_class(stud_plot, \"ggplot\")\n",
    "        expect_identical(\n",
    "            stud_plot$data,\n",
    "            soln_plot$data,\n",
    "            info = 'The plot data is incorrect. Did you use `phys_by_smoke`?'\n",
    "        )   \n",
    "        expect_identical(\n",
    "            deparse(stud_plot$mapping$x),\n",
    "            deparse(soln_plot$mapping$x),\n",
    "            info = 'The `x` aesthetic is incorrect. Did you map it to `SmokeNow`?'\n",
    "        )      \n",
    "        expect_identical(\n",
    "            deparse(stud_plot$mapping$y),\n",
    "            deparse(soln_plot$mapping$y),\n",
    "            info = 'The `y` aesthetic is incorrect. Did you map it to `PhysActiveYes`?'\n",
    "        )  \n",
    "        expect_identical(\n",
    "            deparse(stud_plot$mapping$fill),\n",
    "            deparse(soln_plot$mapping$fill),\n",
    "            info = 'The `fill` aesthetic is incorrect. Did you map it to `SmokeNow`?'\n",
    "        )  \n",
    "        expect_identical(\n",
    "            class(stud_plot$layers[[1]]$geom)[1],\n",
    "            class(soln_plot$layers[[1]]$geom)[1],\n",
    "            info = 'There is no column plot layer. Did you call `geom_col()`?'\n",
    "        )\n",
    "        expect_identical(\n",
    "            stud_plot$labels$y,\n",
    "            soln_plot$labels$y,\n",
    "            info = 'The y-label is incorrect, did you label it \"Proportion Physically Active\"'\n",
    "        )\n",
    "    })\n",
    "    test_that(\"table is correct\", {\n",
    "        expect_true(\n",
    "            \"PhysActiveYes\"%in%colnames(phys_by_smoke),\n",
    "            info = 'The `svyby()` result is incorrect. Is the first argument `~PhysActive`?'\n",
    "        )\n",
    "        expect_true(\n",
    "            \"SmokeNow\" == colnames(phys_by_smoke)[1],\n",
    "            info = 'The `svyby()` result is incorrect. Did you set `by = ~SmokeNow`?'\n",
    "        )\n",
    "        expect_equivalent(\n",
    "            as.data.frame(phys_by_smoke),\n",
    "            as.data.frame(soln_phys_by_smoke),\n",
    "            info = 'The `svyby()` result is incorrect. Did you use argument `FUN = svymean`?'\n",
    "        )\n",
    "    })\n",
    "})"
   ]
  },
  {
   "cell_type": "markdown",
   "metadata": {
    "dc": {
     "key": "54"
    },
    "deletable": false,
    "editable": false,
    "run_control": {
     "frozen": true
    },
    "tags": [
     "context"
    ]
   },
   "source": [
    "## 8. Could there be confounding by smoking? (part 2)\n",
    "<p>Now let's examine the relationship between smoking with BMI.</p>"
   ]
  },
  {
   "cell_type": "code",
   "execution_count": 9,
   "metadata": {
    "dc": {
     "key": "54"
    },
    "tags": [
     "sample_code"
    ]
   },
   "outputs": [
    {
     "data": {
      "text/html": [
       "<table class=\"dataframe\">\n",
       "<caption>A svyby: 2 × 3</caption>\n",
       "<thead>\n",
       "\t<tr><th></th><th scope=col>SmokeNow</th><th scope=col>BMI</th><th scope=col>se</th></tr>\n",
       "\t<tr><th></th><th scope=col>&lt;fct&gt;</th><th scope=col>&lt;dbl&gt;</th><th scope=col>&lt;dbl&gt;</th></tr>\n",
       "</thead>\n",
       "<tbody>\n",
       "\t<tr><th scope=row>No</th><td>No </td><td>29.25734</td><td>0.1915138</td></tr>\n",
       "\t<tr><th scope=row>Yes</th><td>Yes</td><td>27.74873</td><td>0.1652377</td></tr>\n",
       "</tbody>\n",
       "</table>\n"
      ],
      "text/latex": [
       "A svyby: 2 × 3\n",
       "\\begin{tabular}{r|lll}\n",
       "  & SmokeNow & BMI & se\\\\\n",
       "  & <fct> & <dbl> & <dbl>\\\\\n",
       "\\hline\n",
       "\tNo & No  & 29.25734 & 0.1915138\\\\\n",
       "\tYes & Yes & 27.74873 & 0.1652377\\\\\n",
       "\\end{tabular}\n"
      ],
      "text/markdown": [
       "\n",
       "A svyby: 2 × 3\n",
       "\n",
       "| <!--/--> | SmokeNow &lt;fct&gt; | BMI &lt;dbl&gt; | se &lt;dbl&gt; |\n",
       "|---|---|---|---|\n",
       "| No | No  | 29.25734 | 0.1915138 |\n",
       "| Yes | Yes | 27.74873 | 0.1652377 |\n",
       "\n"
      ],
      "text/plain": [
       "    SmokeNow BMI      se       \n",
       "No  No       29.25734 0.1915138\n",
       "Yes Yes      27.74873 0.1652377"
      ]
     },
     "metadata": {},
     "output_type": "display_data"
    },
    {
     "name": "stderr",
     "output_type": "stream",
     "text": [
      "Warning message:\n",
      "“Removed 244 rows containing non-finite values (stat_boxplot).”\n"
     ]
    },
    {
     "data": {
      "image/png": "[encoded data removed]",
      "text/plain": [
       "plot without title"
      ]
     },
     "metadata": {
      "image/png": {
       "height": 420,
       "width": 420
      }
     },
     "output_type": "display_data"
    }
   ],
   "source": [
    "# Estimate mean BMI by current smoking status\n",
    "BMI_by_smoke <- svyby(~ BMI, by = ~ SmokeNow, \n",
    "                      FUN = svymean,\n",
    "                      design = nhanes_adult,\n",
    "                      na.rm = TRUE)\n",
    "BMI_by_smoke\n",
    "\n",
    "# Plot the distribution of BMI by current smoking status\n",
    "NHANESraw %>% \n",
    "  filter(Age>=20, !is.na(SmokeNow)) %>% \n",
    "    ggplot(mapping = aes(x = SmokeNow, y = BMI, weight = WTMEC4YR)) + \n",
    "    geom_boxplot()"
   ]
  },
  {
   "cell_type": "code",
   "execution_count": 0,
   "metadata": {
    "dc": {
     "key": "54"
    },
    "hide": true,
    "tags": [
     "tests"
    ]
   },
   "outputs": [],
   "source": [
    "stud_plot <- last_plot()\n",
    "soln_plot <- NHANESraw %>% \n",
    "  filter(Age>=20, !is.na(SmokeNow)) %>%\n",
    "    ggplot(mapping = aes(x = SmokeNow, y = BMI, weight = WTMEC4YR)) + \n",
    "    geom_boxplot()\n",
    "\n",
    "soln_BMI_by_smoke <- svyby(~BMI, by = ~SmokeNow, \n",
    "      FUN = svymean, \n",
    "      design = soln_nhanes_adult, \n",
    "      na.rm = TRUE)\n",
    "\n",
    "run_tests({\n",
    "    test_that(\"plot is drawn correctly\", {\n",
    "        expect_s3_class(stud_plot, \"ggplot\")\n",
    "        expect_identical(\n",
    "            stud_plot$data,\n",
    "            soln_plot$data,\n",
    "            info = 'The plot data is incorrect. Did you use `NHANESraw` with `filter(Age>=20, , !is.na(SmokeNow))`?'\n",
    "        )   \n",
    "        expect_identical(\n",
    "            deparse(stud_plot$mapping$x),\n",
    "            deparse(soln_plot$mapping$x),\n",
    "            info = 'The `x` aesthetic is incorrect. Did you map it to `SmokeNow`?'\n",
    "        )      \n",
    "        expect_identical(\n",
    "            deparse(stud_plot$mapping$y),\n",
    "            deparse(soln_plot$mapping$y),\n",
    "            info = 'The `y` aesthetic is incorrect. Did you map it to `BMI`?'\n",
    "        )  \n",
    "        expect_identical(\n",
    "            deparse(stud_plot$mapping$weight),\n",
    "            deparse(soln_plot$mapping$weight),\n",
    "            info = 'The `weight` aesthetic is incorrect. Did you map it to `WTMEC4YR`?'\n",
    "        )  \n",
    "        expect_identical(\n",
    "            class(stud_plot$layers[[1]]$geom)[1],\n",
    "            class(soln_plot$layers[[1]]$geom)[1],\n",
    "            info = 'There is no boxplot layer. Did you call `geom_boxplot()`?'\n",
    "        )\n",
    "    })\n",
    "    test_that(\"table is correct\", {\n",
    "        expect_true(\n",
    "            \"BMI\"%in%colnames(BMI_by_smoke),\n",
    "            info = 'The `svyby()` result is incorrect. Is the first argument `~BMI`?'\n",
    "        )\n",
    "        expect_true(\n",
    "            \"SmokeNow\" == colnames(BMI_by_smoke)[1],\n",
    "            info = 'The `svyby()` result is incorrect. Did you set `by = ~SmokeNow`?'\n",
    "        )\n",
    "        expect_equivalent(\n",
    "            as.data.frame(BMI_by_smoke),\n",
    "            as.data.frame(soln_BMI_by_smoke),\n",
    "            info = 'The `svyby()` result is incorrect. Did you use argument `FUN = svymean`?'\n",
    "        )\n",
    "    })\n",
    "})"
   ]
  },
  {
   "cell_type": "markdown",
   "metadata": {
    "dc": {
     "key": "61"
    },
    "deletable": false,
    "editable": false,
    "run_control": {
     "frozen": true
    },
    "tags": [
     "context"
    ]
   },
   "source": [
    "## 9. Add smoking in the mix\n",
    "<p>We saw that people who smoke are less likely to be physically active and have a lower BMI on average. We also saw that people who are not physically active have a higher BMI on average. How do these seemingly conflicting associations work together? To get a better sense of what's going on, we can compare BMI by physical activity stratified by smoking status.</p>"
   ]
  },
  {
   "cell_type": "code",
   "execution_count": 14,
   "metadata": {
    "dc": {
     "key": "61"
    },
    "tags": [
     "sample_code"
    ]
   },
   "outputs": [
    {
     "name": "stderr",
     "output_type": "stream",
     "text": [
      "Warning message:\n",
      "“Removed 547 rows containing non-finite values (stat_boxplot).”\n"
     ]
    },
    {
     "data": {
      "image/png": "[encoded data removed]",
      "text/plain": [
       "plot without title"
      ]
     },
     "metadata": {
      "image/png": {
       "height": 420,
       "width": 420
      }
     },
     "output_type": "display_data"
    }
   ],
   "source": [
    "# Plot the distribution of BMI by smoking and physical activity status\n",
    "NHANESraw %>% \n",
    "  filter(Age>=20) %>% \n",
    "    ggplot(mapping = aes(x = SmokeNow, y = BMI, weight = WTMEC4YR, color = PhysActive)) + \n",
    "    geom_boxplot()"
   ]
  },
  {
   "cell_type": "code",
   "execution_count": 0,
   "metadata": {
    "dc": {
     "key": "61"
    },
    "hide": true,
    "tags": [
     "tests"
    ]
   },
   "outputs": [],
   "source": [
    "stud_plot <- last_plot()\n",
    "soln_plot <- NHANESraw %>% \n",
    "  filter(Age>=20) %>%\n",
    "    ggplot(mapping = aes(x = SmokeNow, \n",
    "                         y = BMI, \n",
    "                         weight = WTMEC4YR, \n",
    "                         color = PhysActive)) + \n",
    "    geom_boxplot()\n",
    "\n",
    "run_tests({\n",
    "    test_that(\"plot is drawn correctly\", {\n",
    "        expect_s3_class(stud_plot, \"ggplot\")\n",
    "        expect_identical(\n",
    "            stud_plot$data,\n",
    "            soln_plot$data,\n",
    "            info = 'The plot data is incorrect. Did you use `NHANESraw` with `filter(Age>=20)`?'\n",
    "        )   \n",
    "        expect_identical(\n",
    "            deparse(stud_plot$mapping$x),\n",
    "            deparse(soln_plot$mapping$x),\n",
    "            info = 'The `x` aesthetic is incorrect. Did you map it to `SmokeNow`?'\n",
    "        )      \n",
    "        expect_identical(\n",
    "            deparse(stud_plot$mapping$y),\n",
    "            deparse(soln_plot$mapping$y),\n",
    "            info = 'The `y` aesthetic is incorrect. Did you map it to `BMI`?'\n",
    "        )  \n",
    "        expect_identical(\n",
    "            deparse(stud_plot$mapping$weight),\n",
    "            deparse(soln_plot$mapping$weight),\n",
    "            info = 'The `weight` aesthetic is incorrect. Did you map it to `WTMEC4YR`?'\n",
    "        )  \n",
    "        expect_identical(\n",
    "            deparse(stud_plot$mapping$color),\n",
    "            deparse(soln_plot$mapping$color),\n",
    "            info = 'The `color` aesthetic is incorrect. Did you map it to `PhysActive`?'\n",
    "        )  \n",
    "        expect_identical(\n",
    "            class(stud_plot$layers[[1]]$geom)[1],\n",
    "            class(soln_plot$layers[[1]]$geom)[1],\n",
    "            info = 'There is no boxplot layer. Did you call `geom_boxplot()`?'\n",
    "        )\n",
    "    })\n",
    "})"
   ]
  },
  {
   "cell_type": "markdown",
   "metadata": {
    "dc": {
     "key": "68"
    },
    "deletable": false,
    "editable": false,
    "run_control": {
     "frozen": true
    },
    "tags": [
     "context"
    ]
   },
   "source": [
    "## 10. Incorporate possible confounding in the model\n",
    "<p>In the above plot, we see that people who are physically active tend to have lower BMI no matter their smoking status, and this is true even if they didn't answer the question. However, we also see that smokers have lower BMI in general. Also, looking closely we see the difference in BMI comparing physically active people to non-physically active people is slightly smaller in smokers than in non-smokers.</p>\n",
    "<p>Previously, we used a simple t-test to compare mean BMI in physically active people and non-physically active people. In order to adjust for smoking status, as well as other possible confounders or predictors of BMI, we can use a linear regression model with multiple independent variables. When using survey data, we use a weighted linear regression method which is a special case of generalized linear models (GLMs).</p>"
   ]
  },
  {
   "cell_type": "code",
   "execution_count": 15,
   "metadata": {
    "dc": {
     "key": "68"
    },
    "tags": [
     "sample_code"
    ]
   },
   "outputs": [
    {
     "data": {
      "text/html": [
       "<table class=\"dataframe\">\n",
       "<caption>A tibble: 4 × 5</caption>\n",
       "<thead>\n",
       "\t<tr><th scope=col>term</th><th scope=col>estimate</th><th scope=col>std.error</th><th scope=col>statistic</th><th scope=col>p.value</th></tr>\n",
       "\t<tr><th scope=col>&lt;chr&gt;</th><th scope=col>&lt;dbl&gt;</th><th scope=col>&lt;dbl&gt;</th><th scope=col>&lt;dbl&gt;</th><th scope=col>&lt;dbl&gt;</th></tr>\n",
       "</thead>\n",
       "<tbody>\n",
       "\t<tr><td>(Intercept)              </td><td>30.540997</td><td>0.2098466</td><td>145.539656</td><td>2.619435e-44</td></tr>\n",
       "\t<tr><td>PhysActiveYes            </td><td>-2.350701</td><td>0.2358895</td><td> -9.965262</td><td>4.961177e-11</td></tr>\n",
       "\t<tr><td>SmokeNowYes              </td><td>-2.238390</td><td>0.2665632</td><td> -8.397223</td><td>2.262528e-09</td></tr>\n",
       "\t<tr><td>PhysActiveYes:SmokeNowYes</td><td> 1.004490</td><td>0.3435443</td><td>  2.923903</td><td>6.520735e-03</td></tr>\n",
       "</tbody>\n",
       "</table>\n"
      ],
      "text/latex": [
       "A tibble: 4 × 5\n",
       "\\begin{tabular}{lllll}\n",
       " term & estimate & std.error & statistic & p.value\\\\\n",
       " <chr> & <dbl> & <dbl> & <dbl> & <dbl>\\\\\n",
       "\\hline\n",
       "\t (Intercept)               & 30.540997 & 0.2098466 & 145.539656 & 2.619435e-44\\\\\n",
       "\t PhysActiveYes             & -2.350701 & 0.2358895 &  -9.965262 & 4.961177e-11\\\\\n",
       "\t SmokeNowYes               & -2.238390 & 0.2665632 &  -8.397223 & 2.262528e-09\\\\\n",
       "\t PhysActiveYes:SmokeNowYes &  1.004490 & 0.3435443 &   2.923903 & 6.520735e-03\\\\\n",
       "\\end{tabular}\n"
      ],
      "text/markdown": [
       "\n",
       "A tibble: 4 × 5\n",
       "\n",
       "| term &lt;chr&gt; | estimate &lt;dbl&gt; | std.error &lt;dbl&gt; | statistic &lt;dbl&gt; | p.value &lt;dbl&gt; |\n",
       "|---|---|---|---|---|\n",
       "| (Intercept)               | 30.540997 | 0.2098466 | 145.539656 | 2.619435e-44 |\n",
       "| PhysActiveYes             | -2.350701 | 0.2358895 |  -9.965262 | 4.961177e-11 |\n",
       "| SmokeNowYes               | -2.238390 | 0.2665632 |  -8.397223 | 2.262528e-09 |\n",
       "| PhysActiveYes:SmokeNowYes |  1.004490 | 0.3435443 |   2.923903 | 6.520735e-03 |\n",
       "\n"
      ],
      "text/plain": [
       "  term                      estimate  std.error statistic  p.value     \n",
       "1 (Intercept)               30.540997 0.2098466 145.539656 2.619435e-44\n",
       "2 PhysActiveYes             -2.350701 0.2358895  -9.965262 4.961177e-11\n",
       "3 SmokeNowYes               -2.238390 0.2665632  -8.397223 2.262528e-09\n",
       "4 PhysActiveYes:SmokeNowYes  1.004490 0.3435443   2.923903 6.520735e-03"
      ]
     },
     "metadata": {},
     "output_type": "display_data"
    },
    {
     "data": {
      "text/html": [
       "<table class=\"dataframe\">\n",
       "<caption>A tibble: 1 × 1</caption>\n",
       "<thead>\n",
       "\t<tr><th scope=col>estimate</th></tr>\n",
       "\t<tr><th scope=col>&lt;dbl&gt;</th></tr>\n",
       "</thead>\n",
       "<tbody>\n",
       "\t<tr><td>-2.350701</td></tr>\n",
       "</tbody>\n",
       "</table>\n"
      ],
      "text/latex": [
       "A tibble: 1 × 1\n",
       "\\begin{tabular}{l}\n",
       " estimate\\\\\n",
       " <dbl>\\\\\n",
       "\\hline\n",
       "\t -2.350701\\\\\n",
       "\\end{tabular}\n"
      ],
      "text/markdown": [
       "\n",
       "A tibble: 1 × 1\n",
       "\n",
       "| estimate &lt;dbl&gt; |\n",
       "|---|\n",
       "| -2.350701 |\n",
       "\n"
      ],
      "text/plain": [
       "  estimate \n",
       "1 -2.350701"
      ]
     },
     "metadata": {},
     "output_type": "display_data"
    },
    {
     "data": {
      "text/html": [
       "<table class=\"dataframe\">\n",
       "<caption>A tibble: 1 × 1</caption>\n",
       "<thead>\n",
       "\t<tr><th scope=col>estimate</th></tr>\n",
       "\t<tr><th scope=col>&lt;dbl&gt;</th></tr>\n",
       "</thead>\n",
       "<tbody>\n",
       "\t<tr><td>-1.346211</td></tr>\n",
       "</tbody>\n",
       "</table>\n"
      ],
      "text/latex": [
       "A tibble: 1 × 1\n",
       "\\begin{tabular}{l}\n",
       " estimate\\\\\n",
       " <dbl>\\\\\n",
       "\\hline\n",
       "\t -1.346211\\\\\n",
       "\\end{tabular}\n"
      ],
      "text/markdown": [
       "\n",
       "A tibble: 1 × 1\n",
       "\n",
       "| estimate &lt;dbl&gt; |\n",
       "|---|\n",
       "| -1.346211 |\n",
       "\n"
      ],
      "text/plain": [
       "  estimate \n",
       "1 -1.346211"
      ]
     },
     "metadata": {},
     "output_type": "display_data"
    }
   ],
   "source": [
    "# Fit a multiple regression model\n",
    "mod1 <- svyglm(BMI ~ PhysActive*SmokeNow, design = nhanes_adult)\n",
    "\n",
    "# Tidy the model results\n",
    "tidy_mod1 <- tidy(mod1)\n",
    "tidy_mod1\n",
    "\n",
    "# Calculate expected mean difference in BMI for activity within non-smokers\n",
    "diff_non_smoke <- tidy_mod1 %>% \n",
    "    filter(term == \"PhysActiveYes\") %>% \n",
    "    select(estimate)\n",
    "diff_non_smoke\n",
    "\n",
    "# Calculate expected mean difference in BMI for activity within smokers\n",
    "diff_smoke <- tidy_mod1 %>% \n",
    "    filter(term %in% c(\"PhysActiveYes\", \"PhysActiveYes:SmokeNowYes\")) %>% \n",
    "    summarize(estimate = sum(estimate))\n",
    "diff_smoke"
   ]
  },
  {
   "cell_type": "code",
   "execution_count": 0,
   "metadata": {
    "dc": {
     "key": "68"
    },
    "hide": true,
    "tags": [
     "tests"
    ]
   },
   "outputs": [],
   "source": [
    "soln_mod1 <- svyglm(BMI ~ PhysActive*SmokeNow, design = soln_nhanes_adult)\n",
    "soln_tidy_mod1 <- tidy(soln_mod1)\n",
    "soln_diff_non_smoke <- soln_tidy_mod1 %>% \n",
    "    filter(term==\"PhysActiveYes\") %>% \n",
    "    select(estimate)\n",
    "soln_diff_smoke <- soln_tidy_mod1 %>% \n",
    "    filter(term%in%c(\"PhysActiveYes\",\"PhysActiveYes:SmokeNowYes\")) %>% \n",
    "    summarize(estimate = sum(estimate))\n",
    "\n",
    "run_tests({\n",
    "    test_that(\"the svyglm model is correct\", {\n",
    "    expect_true(\n",
    "        \"PhysActiveYes\" %in% tidy_mod1$term,\n",
    "        info = \"The formula for `svyglm()` is not correct. Did you include `PhysActive` as a predictor?\"\n",
    "    )\n",
    "    expect_true(\n",
    "        \"SmokeNowYes\" %in% tidy_mod1$term,\n",
    "        info = \"The formula for `svyglm()` is not correct. Did you include `SmokeNow` as a predictor?\"\n",
    "    )\n",
    "    expect_true(\n",
    "        (\"PhysActiveYes:SmokeNowYes\" %in% tidy_mod1$term)|(\"SmokeNowYes:PhysActiveYes\" %in% tidy_mod1$term),\n",
    "        info = \"The formula for `svyglm()` is not correct. Did you include the interaction term `PhysActive*SmokeNow` or `SmokeNow*PhysActive`?\"\n",
    "    )\n",
    "    })\n",
    "    test_that(\"the estimates are correct\", {\n",
    "    expect_equal(\n",
    "        as.data.frame(diff_non_smoke),\n",
    "        as.data.frame(soln_diff_non_smoke),\n",
    "        info = \"`diff_non_smoke` is incorrect. Did you use `filter(term=='PhysActiveYes')`?\"\n",
    "    )\n",
    "    expect_equal(\n",
    "        as.data.frame(diff_smoke),\n",
    "        as.data.frame(soln_diff_smoke),\n",
    "        info = \"`diff_smoke` is incorrect. Did you use `filter(term%in%c('PhysActiveYes','PhysActiveYes:SmokeNowYes'))` or `filter(term%in%c('PhysActiveYes','SmokeNowYes:PhysActiveYes'))`?\"\n",
    "\n",
    "    )\n",
    "    })\n",
    "})"
   ]
  },
  {
   "cell_type": "markdown",
   "metadata": {
    "dc": {
     "key": "75"
    },
    "deletable": false,
    "editable": false,
    "run_control": {
     "frozen": true
    },
    "tags": [
     "context"
    ]
   },
   "source": [
    "## 11. What does it all mean?\n",
    "<p>We fit a linear regression model where the association of physical activity with BMI could vary by smoking status. The interaction between physical activity and smoking has a small p-value, which suggests the association does vary by smoking status. The difference between physically active and non-physically active people is larger in magnitude in the non-smoker population.</p>\n",
    "<p>We should check the <a href=\"https://campus.datacamp.com/courses/inference-for-linear-regression/technical-conditions-in-linear-regression?ex=1\">model fit and technical assumptions</a> of our regression model. Then, we can conclude that physically active people tend to have lower BMI, as do smokers. Although they have similar effect sizes, we probably wouldn't want to recommend smoking along with exercise!</p>\n",
    "<p>In order to determine whether physical activity <em>causes</em> lower BMI, we would need to use causal inference methods or a randomized control study. We can adjust for other possible confounders in our regression model to determine if physical activity is still associated with BMI, but we fall short of confirming that physical activity itself can lower one's BMI.</p>"
   ]
  },
  {
   "cell_type": "code",
   "execution_count": 16,
   "metadata": {
    "dc": {
     "key": "75"
    },
    "tags": [
     "sample_code"
    ]
   },
   "outputs": [
    {
     "data": {
      "text/html": [
       "<table class=\"dataframe\">\n",
       "<caption>A tibble: 6 × 5</caption>\n",
       "<thead>\n",
       "\t<tr><th scope=col>term</th><th scope=col>estimate</th><th scope=col>std.error</th><th scope=col>statistic</th><th scope=col>p.value</th></tr>\n",
       "\t<tr><th scope=col>&lt;chr&gt;</th><th scope=col>&lt;dbl&gt;</th><th scope=col>&lt;dbl&gt;</th><th scope=col>&lt;dbl&gt;</th><th scope=col>&lt;dbl&gt;</th></tr>\n",
       "</thead>\n",
       "<tbody>\n",
       "\t<tr><td>(Intercept)              </td><td>31.5159976</td><td>0.2875148</td><td>109.6152162</td><td>2.016659e-38</td></tr>\n",
       "\t<tr><td>PhysActiveYes            </td><td>-2.2077827</td><td>0.2701295</td><td> -8.1730530</td><td>6.754473e-09</td></tr>\n",
       "\t<tr><td>SmokeNowYes              </td><td>-2.0910936</td><td>0.3140054</td><td> -6.6594192</td><td>3.164332e-07</td></tr>\n",
       "\t<tr><td>Alcohol12PlusYrYes       </td><td>-0.9706923</td><td>0.3464531</td><td> -2.8018001</td><td>9.115523e-03</td></tr>\n",
       "\t<tr><td>Gendermale               </td><td>-0.1911259</td><td>0.2322744</td><td> -0.8228454</td><td>4.175490e-01</td></tr>\n",
       "\t<tr><td>PhysActiveYes:SmokeNowYes</td><td> 0.7432507</td><td>0.3692994</td><td>  2.0125965</td><td>5.386463e-02</td></tr>\n",
       "</tbody>\n",
       "</table>\n"
      ],
      "text/latex": [
       "A tibble: 6 × 5\n",
       "\\begin{tabular}{lllll}\n",
       " term & estimate & std.error & statistic & p.value\\\\\n",
       " <chr> & <dbl> & <dbl> & <dbl> & <dbl>\\\\\n",
       "\\hline\n",
       "\t (Intercept)               & 31.5159976 & 0.2875148 & 109.6152162 & 2.016659e-38\\\\\n",
       "\t PhysActiveYes             & -2.2077827 & 0.2701295 &  -8.1730530 & 6.754473e-09\\\\\n",
       "\t SmokeNowYes               & -2.0910936 & 0.3140054 &  -6.6594192 & 3.164332e-07\\\\\n",
       "\t Alcohol12PlusYrYes        & -0.9706923 & 0.3464531 &  -2.8018001 & 9.115523e-03\\\\\n",
       "\t Gendermale                & -0.1911259 & 0.2322744 &  -0.8228454 & 4.175490e-01\\\\\n",
       "\t PhysActiveYes:SmokeNowYes &  0.7432507 & 0.3692994 &   2.0125965 & 5.386463e-02\\\\\n",
       "\\end{tabular}\n"
      ],
      "text/markdown": [
       "\n",
       "A tibble: 6 × 5\n",
       "\n",
       "| term &lt;chr&gt; | estimate &lt;dbl&gt; | std.error &lt;dbl&gt; | statistic &lt;dbl&gt; | p.value &lt;dbl&gt; |\n",
       "|---|---|---|---|---|\n",
       "| (Intercept)               | 31.5159976 | 0.2875148 | 109.6152162 | 2.016659e-38 |\n",
       "| PhysActiveYes             | -2.2077827 | 0.2701295 |  -8.1730530 | 6.754473e-09 |\n",
       "| SmokeNowYes               | -2.0910936 | 0.3140054 |  -6.6594192 | 3.164332e-07 |\n",
       "| Alcohol12PlusYrYes        | -0.9706923 | 0.3464531 |  -2.8018001 | 9.115523e-03 |\n",
       "| Gendermale                | -0.1911259 | 0.2322744 |  -0.8228454 | 4.175490e-01 |\n",
       "| PhysActiveYes:SmokeNowYes |  0.7432507 | 0.3692994 |   2.0125965 | 5.386463e-02 |\n",
       "\n"
      ],
      "text/plain": [
       "  term                      estimate   std.error statistic   p.value     \n",
       "1 (Intercept)               31.5159976 0.2875148 109.6152162 2.016659e-38\n",
       "2 PhysActiveYes             -2.2077827 0.2701295  -8.1730530 6.754473e-09\n",
       "3 SmokeNowYes               -2.0910936 0.3140054  -6.6594192 3.164332e-07\n",
       "4 Alcohol12PlusYrYes        -0.9706923 0.3464531  -2.8018001 9.115523e-03\n",
       "5 Gendermale                -0.1911259 0.2322744  -0.8228454 4.175490e-01\n",
       "6 PhysActiveYes:SmokeNowYes  0.7432507 0.3692994   2.0125965 5.386463e-02"
      ]
     },
     "metadata": {},
     "output_type": "display_data"
    }
   ],
   "source": [
    "# Adjust mod1 for other possible confounders\n",
    "mod2 <- svyglm(BMI ~ PhysActive*SmokeNow + Alcohol12PlusYr + Gender, \n",
    "               design = nhanes_adult)\n",
    "\n",
    "# Tidy the output\n",
    "tidy(mod2)"
   ]
  },
  {
   "cell_type": "code",
   "execution_count": 0,
   "metadata": {
    "dc": {
     "key": "75"
    },
    "hide": true,
    "tags": [
     "tests"
    ]
   },
   "outputs": [],
   "source": [
    "soln <- tidy(svyglm(BMI ~ PhysActive*SmokeNow + Race1 + Alcohol12PlusYr + Gender, \n",
    "               design = soln_nhanes_adult))\n",
    "stud <- tidy(mod2)\n",
    "\n",
    "run_tests({\n",
    "    test_that(\"the svyglm model is correct\", {\n",
    "        expect_identical(\n",
    "            sort(soln$term),\n",
    "            sort(stud$term),\n",
    "            info = \"The terms in the glm are incorrect. Did you add `Gender`, `Race1`, `Alcohol12PlusYr`?\"\n",
    "        )\n",
    "    })\n",
    "})\n"
   ]
  }
 ],
 "metadata": {
  "kernelspec": {
   "display_name": "R",
   "language": "R",
   "name": "ir"
  },
  "language_info": {
   "codemirror_mode": "r",
   "file_extension": ".r",
   "mimetype": "text/x-r-source",
   "name": "R",
   "pygments_lexer": "r",
   "version": "4.1.2"
  }
 },
 "nbformat": 4,
 "nbformat_minor": 2
}
